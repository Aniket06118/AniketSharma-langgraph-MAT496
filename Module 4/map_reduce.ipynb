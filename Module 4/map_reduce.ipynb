{
 "cells": [
  {
   "cell_type": "code",
   "execution_count": 24,
   "id": "ff57cbf7",
   "metadata": {},
   "outputs": [
    {
     "data": {
      "text/plain": [
       "True"
      ]
     },
     "execution_count": 24,
     "metadata": {},
     "output_type": "execute_result"
    }
   ],
   "source": [
    "import os\n",
    "from dotenv import load_dotenv\n",
    "load_dotenv(override=True)"
   ]
  },
  {
   "cell_type": "code",
   "execution_count": 25,
   "id": "994cf903-1ed6-4ae2-b32a-7891a2808f81",
   "metadata": {},
   "outputs": [],
   "source": [
    "from langchain_openai import ChatOpenAI\n",
    "\n",
    "# Prompts we will use\n",
    "subjects_prompt = \"\"\"Generate a list of 3 cricketers worldwide: {topic}.\"\"\"\n",
    "performances_prompt = \"\"\"Generate the most important performance of them  {subject}\"\"\"\n",
    "best_performances_prompt = \"\"\"Below are a bunch of performances on {topic}. Select the most interesting one! Return the ID of the most interesting one, starting 0 as the ID for the first one. performances: \\n\\n  {performances}\"\"\"\n",
    "\n",
    "# LLM\n",
    "model = ChatOpenAI(model=\"gpt-4o\", temperature=0)"
   ]
  },
  {
   "cell_type": "code",
   "execution_count": 26,
   "id": "099218ca-ee78-4291-95a1-87ee61382e3b",
   "metadata": {},
   "outputs": [],
   "source": [
    "import operator\n",
    "from typing import Annotated\n",
    "from typing_extensions import TypedDict\n",
    "from pydantic import BaseModel\n",
    "\n",
    "class Subjects(BaseModel):\n",
    "    subjects: list[str]\n",
    "\n",
    "class Bestperformances(BaseModel):\n",
    "    id: int\n",
    "    \n",
    "class OverallState(TypedDict):\n",
    "    topic: str\n",
    "    subjects: list\n",
    "    performances: Annotated[list, operator.add]\n",
    "    best_selected_performances: str"
   ]
  },
  {
   "cell_type": "code",
   "execution_count": 27,
   "id": "45010efd-ad31-4daa-b77e-aaec79ef0309",
   "metadata": {},
   "outputs": [],
   "source": [
    "def generate_topics(state: OverallState):\n",
    "    prompt = subjects_prompt.format(topic=state[\"topic\"])\n",
    "    response = model.with_structured_output(Subjects).invoke(prompt)\n",
    "    return {\"subjects\": response.subjects}"
   ]
  },
  {
   "cell_type": "code",
   "execution_count": 28,
   "id": "bc83e575-11f6-41a9-990a-adb571bcda06",
   "metadata": {},
   "outputs": [],
   "source": [
    "from langgraph.types import Send\n",
    "def continue_to_performances(state: OverallState):\n",
    "    return [Send(\"generate_performances\", {\"subject\": s}) for s in state[\"subjects\"]]"
   ]
  },
  {
   "cell_type": "code",
   "execution_count": 29,
   "id": "bcddc567-73d3-4fb3-bfc5-1bea538f2aab",
   "metadata": {},
   "outputs": [],
   "source": [
    "class performancesState(TypedDict):\n",
    "    subject: str\n",
    "\n",
    "class performances(BaseModel):\n",
    "    performances: str\n",
    "\n",
    "def generate_performances(state: performancesState):\n",
    "    prompt = performances_prompt.format(subject=state[\"subject\"])\n",
    "    response = model.with_structured_output(performances).invoke(prompt)\n",
    "    return {\"performances\": [response.performances]}"
   ]
  },
  {
   "cell_type": "code",
   "execution_count": 30,
   "id": "8d672870-75e3-4307-bda0-c41a86cbbaff",
   "metadata": {},
   "outputs": [],
   "source": [
    "def best_performances(state: OverallState):\n",
    "    performancess = \"\\n\\n\".join(state[\"performances\"])\n",
    "    prompt = best_performances_prompt.format(topic=state[\"topic\"], performances=performances)\n",
    "    response = model.with_structured_output(Bestperformances).invoke(prompt)\n",
    "    return {\"best_selected_performances\": state[\"performances\"][response.id]}"
   ]
  },
  {
   "cell_type": "code",
   "execution_count": 31,
   "id": "2ae6be4b-144e-483c-88ad-ce86d6477a0d",
   "metadata": {},
   "outputs": [
    {
     "data": {
      "image/png": "[encoded data removed]",
      "text/plain": [
       "<IPython.core.display.Image object>"
      ]
     },
     "execution_count": 31,
     "metadata": {},
     "output_type": "execute_result"
    }
   ],
   "source": [
    "from IPython.display import Image\n",
    "from langgraph.graph import END, StateGraph, START\n",
    "\n",
    "# Construct the graph: here we put everything together to construct our graph\n",
    "graph = StateGraph(OverallState)\n",
    "graph.add_node(\"generate_topics\", generate_topics)\n",
    "graph.add_node(\"generate_performances\", generate_performances)\n",
    "graph.add_node(\"best_performances\", best_performances)\n",
    "graph.add_edge(START, \"generate_topics\")\n",
    "graph.add_conditional_edges(\"generate_topics\", continue_to_performances, [\"generate_performances\"])\n",
    "graph.add_edge(\"generate_performances\", \"best_performances\")\n",
    "graph.add_edge(\"best_performances\", END)\n",
    "\n",
    "# Compile the graph\n",
    "app = graph.compile()\n",
    "Image(app.get_graph().draw_mermaid_png())"
   ]
  },
  {
   "cell_type": "code",
   "execution_count": 32,
   "id": "e21dc7c9-0add-4125-be76-af701adb874a",
   "metadata": {},
   "outputs": [
    {
     "name": "stdout",
     "output_type": "stream",
     "text": [
      "{'generate_topics': {'subjects': ['**1. Virat Kohli (India):**\\n   - Known for his aggressive batting style and consistency, Virat Kohli has been a dominant force in ODI cricket. His ability to chase down targets and play under pressure has earned him numerous accolades and records.\\n   - Key Achievements: Over 12,000 ODI runs, multiple ICC awards, and numerous centuries.\\n\\n**2. Babar Azam (Pakistan):**\\n   - Babar Azam has quickly risen through the ranks to become one of the most stylish and technically sound batsmen in the world. His elegant stroke play and ability to anchor innings make him a crucial player for Pakistan.\\n   - Key Achievements: Fastest to 1000 runs in T20Is, consistent top-order performances, and captain of the national team.\\n\\n**3. Kane Williamson (New Zealand):**\\n   - Renowned for his calm demeanor and strategic acumen, Kane Williamson is a master of pacing an innings. His ability to adapt to different conditions and situations makes him a valuable asset in ODIs.\\n   - Key Achievements: Led New Zealand to the 2019 World Cup final, multiple ICC awards, and a reputation for sportsmanship.']}}\n",
      "{'generate_performances': {'performances': [\"### Most Important Performance\\n\\n#### **1. Virat Kohli (India):**\\n\\n**Match:** India vs. Sri Lanka, 2012, Hobart\\n\\n**Performance:**\\n- **Score:** 133* off 86 balls\\n- **Context:** In a must-win game for India to stay in the tri-series, Kohli delivered one of the most memorable innings of his career. Chasing a daunting target of 321 in just 40 overs, Kohli's aggressive yet calculated approach dismantled the Sri Lankan bowling attack.\\n- **Impact:** His innings not only ensured India's victory with more than 13 overs to spare but also showcased his ability to perform under immense pressure, solidifying his reputation as a chase master.\\n\\n---\\n\\n#### **2. Babar Azam (Pakistan):**\\n\\n**Match:** Pakistan vs. South Africa, 2021, Centurion\\n\\n**Performance:**\\n- **Score:** 122 off 59 balls\\n- **Context:** In a T20I series decider, Babar Azam played a captain's knock, leading from the front with a blistering century. His innings was marked by exquisite timing and placement, as he took on a formidable South African bowling lineup.\\n- **Impact:** This performance not only helped Pakistan chase down a challenging target but also highlighted Babar's ability to dominate in the shortest format, earning him accolades as one of the premier batsmen in world cricket.\\n\\n---\\n\\n#### **3. Kane Williamson (New Zealand):**\\n\\n**Match:** New Zealand vs. South Africa, 2019 World Cup, Edgbaston\\n\\n**Performance:**\\n- **Score:** 106* off 138 balls\\n- **Context:** In a crucial World Cup encounter, Williamson's innings was a masterclass in composure and technique. Chasing a tricky target on a challenging pitch, his ability to anchor the innings and guide New Zealand to victory was pivotal.\\n- **Impact:** This performance not only secured New Zealand's place in the semi-finals but also underscored Williamson's reputation as a clutch player, capable of delivering when it matters most.\\n\\n---\\n\\nThese performances are emblematic of the players' respective strengths and have contributed significantly to their legacies in international cricket. Each innings not only showcased their individual brilliance but also had a lasting impact on their teams' fortunes.\"]}}\n",
      "{'best_performances': {'best_selected_performances': \"### Most Important Performance\\n\\n#### **1. Virat Kohli (India):**\\n\\n**Match:** India vs. Sri Lanka, 2012, Hobart\\n\\n**Performance:**\\n- **Score:** 133* off 86 balls\\n- **Context:** In a must-win game for India to stay in the tri-series, Kohli delivered one of the most memorable innings of his career. Chasing a daunting target of 321 in just 40 overs, Kohli's aggressive yet calculated approach dismantled the Sri Lankan bowling attack.\\n- **Impact:** His innings not only ensured India's victory with more than 13 overs to spare but also showcased his ability to perform under immense pressure, solidifying his reputation as a chase master.\\n\\n---\\n\\n#### **2. Babar Azam (Pakistan):**\\n\\n**Match:** Pakistan vs. South Africa, 2021, Centurion\\n\\n**Performance:**\\n- **Score:** 122 off 59 balls\\n- **Context:** In a T20I series decider, Babar Azam played a captain's knock, leading from the front with a blistering century. His innings was marked by exquisite timing and placement, as he took on a formidable South African bowling lineup.\\n- **Impact:** This performance not only helped Pakistan chase down a challenging target but also highlighted Babar's ability to dominate in the shortest format, earning him accolades as one of the premier batsmen in world cricket.\\n\\n---\\n\\n#### **3. Kane Williamson (New Zealand):**\\n\\n**Match:** New Zealand vs. South Africa, 2019 World Cup, Edgbaston\\n\\n**Performance:**\\n- **Score:** 106* off 138 balls\\n- **Context:** In a crucial World Cup encounter, Williamson's innings was a masterclass in composure and technique. Chasing a tricky target on a challenging pitch, his ability to anchor the innings and guide New Zealand to victory was pivotal.\\n- **Impact:** This performance not only secured New Zealand's place in the semi-finals but also underscored Williamson's reputation as a clutch player, capable of delivering when it matters most.\\n\\n---\\n\\nThese performances are emblematic of the players' respective strengths and have contributed significantly to their legacies in international cricket. Each innings not only showcased their individual brilliance but also had a lasting impact on their teams' fortunes.\"}}\n"
     ]
    }
   ],
   "source": [
    "# Call the graph: here we call it to generate a list of performancess\n",
    "for s in app.stream({\"topic\": \"best odi batsmen\"}):\n",
    "    print(s)"
   ]
  },
  {
   "cell_type": "code",
   "execution_count": null,
   "id": "741a5e45-9a4c-43b4-8393-9298b3dcda53",
   "metadata": {},
   "outputs": [],
   "source": []
  }
 ],
 "metadata": {
  "kernelspec": {
   "display_name": "Python 3 (ipykernel)",
   "language": "python",
   "name": "python3"
  },
  "language_info": {
   "codemirror_mode": {
    "name": "ipython",
    "version": 3
   },
   "file_extension": ".py",
   "mimetype": "text/x-python",
   "name": "python",
   "nbconvert_exporter": "python",
   "pygments_lexer": "ipython3",
   "version": "3.12.5"
  }
 },
 "nbformat": 4,
 "nbformat_minor": 5
}
